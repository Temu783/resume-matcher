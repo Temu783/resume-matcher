{
 "cells": [
  {
   "cell_type": "code",
   "execution_count": null,
   "id": "b53c66fe-844e-447b-b06d-e5fd3fc8797c",
   "metadata": {},
   "outputs": [],
   "source": [
    "!pip install pdfplumber nltk scikit-learn"
   ]
  },
  {
   "cell_type": "code",
   "execution_count": null,
   "id": "2dd95357-8c44-4fbe-91ce-c6ac4d84953f",
   "metadata": {},
   "outputs": [],
   "source": []
  }
 ],
 "metadata": {
  "kernelspec": {
   "display_name": "Python 3 (ipykernel)",
   "language": "python",
   "name": "python3"
  },
  "language_info": {
   "codemirror_mode": {
    "name": "ipython",
    "version": 3
   },
   "file_extension": ".py",
   "mimetype": "text/x-python",
   "name": "python",
   "nbconvert_exporter": "python",
   "pygments_lexer": "ipython3",
   "version": "3.13.3"
  }
 },
 "nbformat": 4,
 "nbformat_minor": 5
}
